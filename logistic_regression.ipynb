{
 "cells": [
  {
   "cell_type": "markdown",
   "id": "21e05c4f",
   "metadata": {},
   "source": [
    "# Logistic Regression\n",
    "\n",
    "The requirement is to use Neural Network models to predict the traffic demand given the historical data. In this case I am using a single **Logistic Regression Model** with **1 hidden layer**."
   ]
  },
  {
   "cell_type": "markdown",
   "id": "6142b097",
   "metadata": {},
   "source": [
    "First, we need to import all the libraries that we are going to need to complete the task. As a library, we will be using **pyTorch**. Also, for the data preprocessing we are using **numpy**, and for the visualization we will be using **pyplot**."
   ]
  },
  {
   "cell_type": "code",
   "execution_count": 1,
   "id": "b0817068",
   "metadata": {},
   "outputs": [],
   "source": [
    "import numpy as np\n",
    "import torch\n",
    "import torchvision\n",
    "import torch.nn as nn\n",
    "import torch.nn.functional as F\n",
    "from torch.utils.data import DataLoader\n",
    "from torch.utils.data import TensorDataset\n",
    "import matplotlib.pyplot as plt"
   ]
  },
  {
   "cell_type": "markdown",
   "id": "3bf88145",
   "metadata": {},
   "source": [
    "## Data Preprocessing"
   ]
  },
  {
   "cell_type": "markdown",
   "id": "c29b2f57",
   "metadata": {},
   "source": [
    "### Importing Training Data"
   ]
  },
  {
   "cell_type": "code",
   "execution_count": 5,
   "id": "6e7c05d6",
   "metadata": {},
   "outputs": [],
   "source": [
    "train = np.load('train.npz')\n",
    "input_train = train['x'] #feature matrix\n",
    "label_train = train['y'] #label matrix\n",
    "location_train = train['locations'] #location matrix### Importing Valuation Data\n",
    "times_train = train['times'] #time matrix"
   ]
  },
  {
   "cell_type": "markdown",
   "id": "6ceb1eff",
   "metadata": {},
   "source": [
    "### Importing Valuation Data"
   ]
  },
  {
   "cell_type": "code",
   "execution_count": 6,
   "id": "1afe8ee3",
   "metadata": {},
   "outputs": [],
   "source": [
    "val = np.load('val.npz')\n",
    "input_val = val['x'] #feature matrix\n",
    "label_val = val['y'] #label matrix\n",
    "location_val = val['locations'] #location matrix\n",
    "times_val = val['times'] #time matrix"
   ]
  },
  {
   "cell_type": "markdown",
   "id": "8b90637e",
   "metadata": {},
   "source": [
    "### Importing Testing Data"
   ]
  },
  {
   "cell_type": "code",
   "execution_count": 7,
   "id": "303f65c2",
   "metadata": {},
   "outputs": [],
   "source": [
    "test = np.load('test.npz')\n",
    "input_test = test['x'] #feature matrix\n",
    "location_test = test['locations'] #location matrix\n",
    "times_test = test['times'] #time matrix"
   ]
  },
  {
   "cell_type": "markdown",
   "id": "4af8fd48",
   "metadata": {},
   "source": [
    "## Changing from NumPy Arrays into Tensors\n",
    "\n",
    "Here we are creating tensors from numpy arrays"
   ]
  },
  {
   "cell_type": "code",
   "execution_count": 8,
   "id": "0ec5aab5",
   "metadata": {},
   "outputs": [],
   "source": [
    "inputs_train = torch.from_numpy(input_train)\n",
    "labels_train = torch.from_numpy(label_train)\n",
    "\n",
    "inputs_val = torch.from_numpy(input_val)\n",
    "labels_val = torch.from_numpy(label_val)"
   ]
  },
  {
   "cell_type": "code",
   "execution_count": 9,
   "id": "900b4712",
   "metadata": {},
   "outputs": [],
   "source": [
    "train_ds = TensorDataset(inputs_train.float(), labels_train.float())\n",
    "val_ds = TensorDataset(inputs_val.float(), labels_val.float())"
   ]
  },
  {
   "cell_type": "markdown",
   "id": "3b601c38",
   "metadata": {},
   "source": [
    "### Creating DataLoader\n",
    "\n",
    "Now, we are creating dataloaders to load the data in batches (in our case we will be using batches of size 100).\n",
    "\n",
    "Since the training data is often sorted by the target labels, or at least it is not random, therefore, it is crucial for us to choose random data items for our batches."
   ]
  },
  {
   "cell_type": "code",
   "execution_count": 10,
   "id": "82af182f",
   "metadata": {},
   "outputs": [],
   "source": [
    "batch_size = 100\n",
    "input_size = 8*49\n",
    "\n",
    "train_loader = DataLoader(train_ds, batch_size, shuffle=True)\n",
    "val_loader = DataLoader(val_ds, batch_size)"
   ]
  },
  {
   "cell_type": "markdown",
   "id": "7cf00a45",
   "metadata": {},
   "source": [
    "### Shape\n",
    "\n",
    "Here, we can see that our items in the train_loader have the shape of (100(number of items in the batch), 8, 49). But for ou rfurther operations such as matrix multiplications, this shape is going to be invalid for us. Therefore, we need to reshape it."
   ]
  },
  {
   "cell_type": "code",
   "execution_count": 11,
   "id": "ae563fff",
   "metadata": {},
   "outputs": [
    {
     "name": "stdout",
     "output_type": "stream",
     "text": [
      "items.shape: torch.Size([100, 8, 49])\n",
      "inputs.shape: torch.Size([100, 392])\n"
     ]
    }
   ],
   "source": [
    "for items, labels in train_loader:\n",
    "    print('items.shape:', items.shape)\n",
    "    inputs = items.reshape(-1, 8*49)\n",
    "    print('inputs.shape:', inputs.shape)\n",
    "    break"
   ]
  },
  {
   "cell_type": "markdown",
   "id": "ace89c6e",
   "metadata": {},
   "source": [
    "The size of the hidden layer is going to be 64."
   ]
  },
  {
   "cell_type": "code",
   "execution_count": 12,
   "id": "a32b20e0",
   "metadata": {},
   "outputs": [],
   "source": [
    "input_size = inputs.shape[-1]\n",
    "hidden_size = 64"
   ]
  },
  {
   "cell_type": "markdown",
   "id": "775ef379",
   "metadata": {},
   "source": [
    "### Layer Creation\n",
    "\n",
    "Next, we will create a nn.Linear object that is going to be our hidden layer. The size is already defined to be 64."
   ]
  },
  {
   "cell_type": "code",
   "execution_count": 19,
   "id": "2ff9bdab",
   "metadata": {},
   "outputs": [],
   "source": [
    "L1 = nn.Linear(input_size, hidden_size)"
   ]
  },
  {
   "cell_type": "code",
   "execution_count": 20,
   "id": "e465ac18",
   "metadata": {
    "scrolled": true
   },
   "outputs": [
    {
     "name": "stdout",
     "output_type": "stream",
     "text": [
      "layer1_outputs.shape: torch.Size([100, 64])\n"
     ]
    }
   ],
   "source": [
    "L1_outputs = L1(inputs)\n",
    "print('layer1_outputs.shape:', L1_outputs.shape)"
   ]
  },
  {
   "cell_type": "code",
   "execution_count": 21,
   "id": "6a555255",
   "metadata": {},
   "outputs": [
    {
     "data": {
      "text/plain": [
       "torch.Size([100, 64])"
      ]
     },
     "execution_count": 21,
     "metadata": {},
     "output_type": "execute_result"
    }
   ],
   "source": [
    "L1_outputs_direct = inputs @ L1.weight.t() + L1.bias\n",
    "L1_outputs_direct.shape"
   ]
  },
  {
   "cell_type": "markdown",
   "id": "9b32c231",
   "metadata": {},
   "source": [
    "The image of vectors of size 392 are now transformed into intermediate output vectors of lenght 64 after matrix multiplications and addition of bias.\n",
    "\n",
    "### Activation Function\n",
    "\n",
    "L1_outputs and inputs have a linear relationship, where each element of L1_putputs is a weighted sum of elements of unputs. Therefore, layer 1 can only capture linear relationships. That is why we need some kind of function that would make the next relationship between L1 and L2 non-linear.\n",
    "\n",
    "This kind of function is called an activation function and there are typically 5 major functions which are Step, Tanh, ReLU, and leaky ReLU.\n",
    "\n",
    "In our case, we will be using ReLU (Rectified Linear Unit) as an activation function. What it does is it ignores the non-negative numbers, but the negative numbers are transformed to 0. This function is no derivativable, and therefore is a good choice for a function to get rid from linearity. "
   ]
  },
  {
   "cell_type": "code",
   "execution_count": 22,
   "id": "6d241899",
   "metadata": {},
   "outputs": [
    {
     "name": "stdout",
     "output_type": "stream",
     "text": [
      "min(L1_outputs): -56.520835876464844\n",
      "min(relu_outputs): 0.0\n"
     ]
    }
   ],
   "source": [
    "relu_outputs = F.relu(L1_outputs)\n",
    "print('min(L1_outputs):', torch.min(L1_outputs).item())\n",
    "print('min(relu_outputs):', torch.min(relu_outputs).item())"
   ]
  },
  {
   "cell_type": "markdown",
   "id": "faad702f",
   "metadata": {},
   "source": [
    "### Creation of Layer 2"
   ]
  },
  {
   "cell_type": "code",
   "execution_count": 23,
   "id": "b1af9230",
   "metadata": {},
   "outputs": [],
   "source": [
    "L2 = nn.Linear(hidden_size, 1)"
   ]
  },
  {
   "cell_type": "code",
   "execution_count": 24,
   "id": "c53a4e48",
   "metadata": {},
   "outputs": [
    {
     "name": "stdout",
     "output_type": "stream",
     "text": [
      "torch.Size([100, 1])\n"
     ]
    }
   ],
   "source": [
    "L2_outputs = L2(relu_outputs)\n",
    "print(L2_outputs.shape)"
   ]
  },
  {
   "cell_type": "markdown",
   "id": "ca0c1824",
   "metadata": {},
   "source": [
    "Now, layer 2 outputs contains a batch of vectors of size 1. Now, we can compute the loss using F.mse_loss (Mean Squared Loss) function and adjust the weights of L1 and L2 using gradient descent."
   ]
  },
  {
   "cell_type": "code",
   "execution_count": 25,
   "id": "dd69839f",
   "metadata": {},
   "outputs": [
    {
     "data": {
      "text/plain": [
       "tensor(470.2571, grad_fn=<MseLossBackward0>)"
      ]
     },
     "execution_count": 25,
     "metadata": {},
     "output_type": "execute_result"
    }
   ],
   "source": [
    "F.mse_loss(L2_outputs, labels)"
   ]
  },
  {
   "cell_type": "code",
   "execution_count": 26,
   "id": "8c646737",
   "metadata": {},
   "outputs": [],
   "source": [
    "# Expanded version of layer2(F.relu(layer1(inputs)))\n",
    "outputs = (F.relu(inputs @ L1.weight.t() + L1.bias)) @ L2.weight.t() + L2.bias"
   ]
  },
  {
   "cell_type": "code",
   "execution_count": 27,
   "id": "5dbea19b",
   "metadata": {},
   "outputs": [],
   "source": [
    "# Same as layer2(layer1(inputs))\n",
    "outputs2 = (inputs @ L1.weight.t() + L1.bias) @ L2.weight.t() + L2.bias"
   ]
  },
  {
   "cell_type": "code",
   "execution_count": 30,
   "id": "b29e86c2",
   "metadata": {},
   "outputs": [],
   "source": [
    "# Create a single layer to replace the two linear layers\n",
    "combined_layer = nn.Linear(input_size, 1)\n",
    "\n",
    "combined_layer.weight.data = L2.weight @ L1.weight\n",
    "combined_layer.bias.data = L1.bias @ L2.weight.t() + L2.bias"
   ]
  },
  {
   "cell_type": "code",
   "execution_count": 31,
   "id": "ed5666b7",
   "metadata": {},
   "outputs": [],
   "source": [
    "# Same as combined_layer(inputs)\n",
    "outputs3 = inputs @ combined_layer.weight.t() + combined_layer.bias"
   ]
  },
  {
   "cell_type": "markdown",
   "id": "49d84e6f",
   "metadata": {},
   "source": [
    "### Defining Model\n",
    "\n",
    "Here we will define our own class of Model, that will be extended from nn.Linear model with some minor additions such as reshaping and applying a hidden layer. "
   ]
  },
  {
   "cell_type": "code",
   "execution_count": 32,
   "id": "93d34e8f",
   "metadata": {},
   "outputs": [],
   "source": [
    "class MyModel(nn.Module):\n",
    "    \"\"\"Feedfoward neural network with 1 hidden layer\"\"\"\n",
    "    def __init__(self, in_size, hidden_size, out_size):\n",
    "        super().__init__()\n",
    "        self.linear1 = nn.Linear(in_size, hidden_size)\n",
    "        self.linear2 = nn.Linear(hidden_size, out_size)\n",
    "        \n",
    "    def forward(self, xb):\n",
    "        xb = xb.view(-1, 8*49)\n",
    "        out = self.linear1(xb)\n",
    "        out = F.relu(out)\n",
    "        out = self.linear2(out)\n",
    "        return out\n",
    "    \n",
    "    def training_step(self, batch):\n",
    "        items, labels = batch \n",
    "        out = self(items)\n",
    "        loss = F.mse_loss(out, labels)\n",
    "        return loss\n",
    "    \n",
    "    def validation_step(self, batch):\n",
    "        items, labels = batch \n",
    "        out = self(items)\n",
    "        loss = F.mse_loss(out, labels)\n",
    "        return {'val_loss': loss}\n",
    "        \n",
    "    def validation_epoch_end(self, outputs):\n",
    "        batch_losses = [x['val_loss'] for x in outputs]\n",
    "        epoch_loss = torch.stack(batch_losses).mean()\n",
    "        return {'val_loss': epoch_loss.item()}\n",
    "    \n",
    "    def epoch_end(self, epoch, result):\n",
    "        print(\"Epoch [{}], val_loss: {:.4f}\".format(epoch, result['val_loss']))"
   ]
  },
  {
   "cell_type": "code",
   "execution_count": 33,
   "id": "59482417",
   "metadata": {},
   "outputs": [],
   "source": [
    "model = MyModel(input_size, hidden_size=32, out_size=1)"
   ]
  },
  {
   "cell_type": "code",
   "execution_count": 34,
   "id": "21f81d45",
   "metadata": {},
   "outputs": [
    {
     "name": "stdout",
     "output_type": "stream",
     "text": [
      "torch.Size([32, 392])\n",
      "torch.Size([32])\n",
      "torch.Size([1, 32])\n",
      "torch.Size([1])\n"
     ]
    }
   ],
   "source": [
    "for t in model.parameters():\n",
    "    print(t.shape)"
   ]
  },
  {
   "cell_type": "markdown",
   "id": "5f3bf80a",
   "metadata": {},
   "source": [
    "Here from model parameters we can see how the sizes of our batches are changing with each layer."
   ]
  },
  {
   "cell_type": "markdown",
   "id": "da0d65f8",
   "metadata": {},
   "source": [
    "### Evaluate and Fit Functions\n",
    "\n",
    "Now, it is time to define the evaluate and fit functions.\n",
    "\n",
    "The evaluate() function will be checking the performance of the model on the validation loader.\n",
    "\n",
    "The fit() function is going to be a function that is handling the training of the model and applying the backward() process that will be making the model better overtime."
   ]
  },
  {
   "cell_type": "code",
   "execution_count": null,
   "id": "d3648499",
   "metadata": {},
   "outputs": [],
   "source": []
  }
 ],
 "metadata": {
  "kernelspec": {
   "display_name": "Python 3 (ipykernel)",
   "language": "python",
   "name": "python3"
  },
  "language_info": {
   "codemirror_mode": {
    "name": "ipython",
    "version": 3
   },
   "file_extension": ".py",
   "mimetype": "text/x-python",
   "name": "python",
   "nbconvert_exporter": "python",
   "pygments_lexer": "ipython3",
   "version": "3.9.7"
  }
 },
 "nbformat": 4,
 "nbformat_minor": 5
}
