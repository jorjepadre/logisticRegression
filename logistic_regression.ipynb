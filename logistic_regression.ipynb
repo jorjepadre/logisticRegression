{
 "cells": [
  {
   "cell_type": "markdown",
   "id": "db1df060",
   "metadata": {},
   "source": [
    "# Logistic Regression\n",
    "\n",
    "The requirement is to use Neural Network models to predict the traffic demand given the historical data. In this case I am using a single **Logistic Regression Model** with **1 hidden layer**."
   ]
  },
  {
   "cell_type": "markdown",
   "id": "6142b097",
   "metadata": {},
   "source": [
    "First, we need to import all the libraries that we are going to need to complete the task. As a library, we will be using **pyTorch**. Also, for the data preprocessing we are using **numpy**, and for the visualization we will be using **pyplot**."
   ]
  },
  {
   "cell_type": "code",
   "execution_count": 1,
   "id": "9073c382",
   "metadata": {},
   "outputs": [],
   "source": [
    "import numpy as np\n",
    "import torch\n",
    "import torchvision\n",
    "import torch.nn as nn\n",
    "import torch.nn.functional as F\n",
    "from torch.utils.data import DataLoader\n",
    "from torch.utils.data import TensorDataset\n",
    "import matplotlib.pyplot as plt"
   ]
  },
  {
   "cell_type": "markdown",
   "id": "b0f5923a",
   "metadata": {},
   "source": [
    "## Data Preprocessing"
   ]
  },
  {
   "cell_type": "markdown",
   "id": "bcb8f41f",
   "metadata": {},
   "source": [
    "### Importing Training Data"
   ]
  },
  {
   "cell_type": "code",
   "execution_count": 5,
   "id": "df8ce1d9",
   "metadata": {},
   "outputs": [],
   "source": [
    "train = np.load('train.npz')\n",
    "input_train = train['x'] #feature matrix\n",
    "label_train = train['y'] #label matrix\n",
    "location_train = train['locations'] #location matrix### Importing Valuation Data\n",
    "times_train = train['times'] #time matrix"
   ]
  },
  {
   "cell_type": "markdown",
   "id": "6ceb1eff",
   "metadata": {},
   "source": [
    "### Importing Valuation Data"
   ]
  },
  {
   "cell_type": "code",
   "execution_count": 6,
   "id": "7da75585",
   "metadata": {},
   "outputs": [],
   "source": [
    "val = np.load('val.npz')\n",
    "input_val = val['x'] #feature matrix\n",
    "label_val = val['y'] #label matrix\n",
    "location_val = val['locations'] #location matrix\n",
    "times_val = val['times'] #time matrix"
   ]
  },
  {
   "cell_type": "markdown",
   "id": "8b90637e",
   "metadata": {},
   "source": [
    "### Importing Testing Data"
   ]
  },
  {
   "cell_type": "code",
   "execution_count": 7,
   "id": "d7ea663c",
   "metadata": {},
   "outputs": [],
   "source": [
    "test = np.load('test.npz')\n",
    "input_test = test['x'] #feature matrix\n",
    "location_test = test['locations'] #location matrix\n",
    "times_test = test['times'] #time matrix"
   ]
  },
  {
   "cell_type": "markdown",
   "id": "4af8fd48",
   "metadata": {},
   "source": [
    "## Changing from NumPy Arrays into Tensors\n",
    "\n",
    "Here we are creating tensors from numpy arrays"
   ]
  },
  {
   "cell_type": "code",
   "execution_count": 8,
   "id": "e049003e",
   "metadata": {},
   "outputs": [],
   "source": [
    "inputs_train = torch.from_numpy(input_train)\n",
    "labels_train = torch.from_numpy(label_train)\n",
    "\n",
    "inputs_val = torch.from_numpy(input_val)\n",
    "labels_val = torch.from_numpy(label_val)"
   ]
  },
  {
   "cell_type": "code",
   "execution_count": 9,
   "id": "a83f020d",
   "metadata": {},
   "outputs": [],
   "source": [
    "train_ds = TensorDataset(inputs_train.float(), labels_train.float())\n",
    "val_ds = TensorDataset(inputs_val.float(), labels_val.float())"
   ]
  },
  {
   "cell_type": "markdown",
   "id": "3b601c38",
   "metadata": {},
   "source": [
    "### Creating DataLoader\n",
    "\n",
    "Now, we are creating dataloaders to load the data in batches (in our case we will be using batches of size 100).\n",
    "\n",
    "Since the training data is often sorted by the target labels, or at least it is not random, therefore, it is crucial for us to choose random data items for our batches."
   ]
  },
  {
   "cell_type": "code",
   "execution_count": 10,
   "id": "0b0c663e",
   "metadata": {},
   "outputs": [],
   "source": [
    "batch_size = 100\n",
    "input_size = 8*49\n",
    "\n",
    "train_loader = DataLoader(train_ds, batch_size, shuffle=True)\n",
    "val_loader = DataLoader(val_ds, batch_size)"
   ]
  },
  {
   "cell_type": "markdown",
   "id": "7cf00a45",
   "metadata": {},
   "source": [
    "### Shape\n",
    "\n",
    "Here, we can see that our items in the train_loader have the shape of (100(number of items in the batch), 8, 49). But for ou rfurther operations such as matrix multiplications, this shape is going to be invalid for us. Therefore, we need to reshape it."
   ]
  },
  {
   "cell_type": "code",
   "execution_count": 11,
   "id": "464f0612",
   "metadata": {},
   "outputs": [
    {
     "name": "stdout",
     "output_type": "stream",
     "text": [
      "items.shape: torch.Size([100, 8, 49])\n",
      "inputs.shape: torch.Size([100, 392])\n"
     ]
    }
   ],
   "source": [
    "for items, labels in train_loader:\n",
    "    print('items.shape:', items.shape)\n",
    "    inputs = items.reshape(-1, 8*49)\n",
    "    print('inputs.shape:', inputs.shape)\n",
    "    break"
   ]
  },
  {
   "cell_type": "markdown",
   "id": "ace89c6e",
   "metadata": {},
   "source": [
    "The size of the hidden layer is going to be 64."
   ]
  },
  {
   "cell_type": "code",
   "execution_count": 12,
   "id": "4bf08c3b",
   "metadata": {},
   "outputs": [],
   "source": [
    "input_size = inputs.shape[-1]\n",
    "hidden_size = 64"
   ]
  },
  {
   "cell_type": "code",
   "execution_count": null,
   "id": "b7f916bb",
   "metadata": {},
   "outputs": [],
   "source": []
  }
 ],
 "metadata": {
  "kernelspec": {
   "display_name": "Python 3 (ipykernel)",
   "language": "python",
   "name": "python3"
  },
  "language_info": {
   "codemirror_mode": {
    "name": "ipython",
    "version": 3
   },
   "file_extension": ".py",
   "mimetype": "text/x-python",
   "name": "python",
   "nbconvert_exporter": "python",
   "pygments_lexer": "ipython3",
   "version": "3.9.7"
  }
 },
 "nbformat": 4,
 "nbformat_minor": 5
}
