{
 "cells": [
  {
   "cell_type": "markdown",
   "id": "f559ce36",
   "metadata": {},
   "source": [
    "# Logistic Regression\n",
    "\n",
    "The requirement is to use Neural Network models to predict the traffic demand given the historical data. In this case I am using a single **Logistic Regression Model** with **1 hidden layer**."
   ]
  },
  {
   "cell_type": "markdown",
   "id": "6142b097",
   "metadata": {},
   "source": [
    "First, we need to import all the libraries that we are going to need to complete the task. As a library, we will be using **pyTorch**. Also, for the data preprocessing we are using **numpy**, and for the visualization we will be using **pyplot**."
   ]
  },
  {
   "cell_type": "code",
   "execution_count": 1,
   "id": "526f4ea1",
   "metadata": {},
   "outputs": [],
   "source": [
    "import numpy as np\n",
    "import torch\n",
    "import torchvision\n",
    "import torch.nn as nn\n",
    "import torch.nn.functional as F\n",
    "from torch.utils.data import DataLoader\n",
    "from torch.utils.data import TensorDataset\n",
    "import matplotlib.pyplot as plt"
   ]
  },
  {
   "cell_type": "markdown",
   "id": "7137680e",
   "metadata": {},
   "source": [
    "## Data Preprocessing"
   ]
  },
  {
   "cell_type": "markdown",
   "id": "4f685e05",
   "metadata": {},
   "source": [
    "### Importing Training Data"
   ]
  },
  {
   "cell_type": "code",
   "execution_count": 5,
   "id": "89b6efcb",
   "metadata": {},
   "outputs": [],
   "source": [
    "train = np.load('train.npz')\n",
    "input_train = train['x'] #feature matrix\n",
    "label_train = train['y'] #label matrix\n",
    "location_train = train['locations'] #location matrix### Importing Valuation Data\n",
    "times_train = train['times'] #time matrix"
   ]
  },
  {
   "cell_type": "markdown",
   "id": "6ceb1eff",
   "metadata": {},
   "source": [
    "### Importing Valuation Data"
   ]
  },
  {
   "cell_type": "code",
   "execution_count": 6,
   "id": "9f7a0770",
   "metadata": {},
   "outputs": [],
   "source": [
    "val = np.load('val.npz')\n",
    "input_val = val['x'] #feature matrix\n",
    "label_val = val['y'] #label matrix\n",
    "location_val = val['locations'] #location matrix\n",
    "times_val = val['times'] #time matrix"
   ]
  },
  {
   "cell_type": "markdown",
   "id": "8b90637e",
   "metadata": {},
   "source": [
    "### Importing Testing Data"
   ]
  },
  {
   "cell_type": "code",
   "execution_count": 7,
   "id": "3d3a6b42",
   "metadata": {},
   "outputs": [],
   "source": [
    "test = np.load('test.npz')\n",
    "input_test = test['x'] #feature matrix\n",
    "location_test = test['locations'] #location matrix\n",
    "times_test = test['times'] #time matrix"
   ]
  },
  {
   "cell_type": "markdown",
   "id": "4af8fd48",
   "metadata": {},
   "source": [
    "## Changing from NumPy Arrays into Tensors\n",
    "\n",
    "Here we are creating tensors from numpy arrays"
   ]
  },
  {
   "cell_type": "code",
   "execution_count": 8,
   "id": "0a85b193",
   "metadata": {},
   "outputs": [],
   "source": [
    "inputs_train = torch.from_numpy(input_train)\n",
    "labels_train = torch.from_numpy(label_train)\n",
    "\n",
    "inputs_val = torch.from_numpy(input_val)\n",
    "labels_val = torch.from_numpy(label_val)"
   ]
  },
  {
   "cell_type": "code",
   "execution_count": 9,
   "id": "31867ced",
   "metadata": {},
   "outputs": [],
   "source": [
    "train_ds = TensorDataset(inputs_train.float(), labels_train.float())\n",
    "val_ds = TensorDataset(inputs_val.float(), labels_val.float())"
   ]
  },
  {
   "cell_type": "markdown",
   "id": "3b601c38",
   "metadata": {},
   "source": [
    "### Creating DataLoader\n",
    "\n",
    "Now, we are creating dataloaders to load the data in batches (in our case we will be using batches of size 100).\n",
    "\n",
    "Since the training data is often sorted by the target labels, or at least it is not random, therefore, it is crucial for us to choose random data items for our batches."
   ]
  },
  {
   "cell_type": "code",
   "execution_count": 10,
   "id": "137b5950",
   "metadata": {},
   "outputs": [],
   "source": [
    "batch_size = 100\n",
    "input_size = 8*49\n",
    "\n",
    "train_loader = DataLoader(train_ds, batch_size, shuffle=True)\n",
    "val_loader = DataLoader(val_ds, batch_size)"
   ]
  },
  {
   "cell_type": "markdown",
   "id": "7cf00a45",
   "metadata": {},
   "source": [
    "### Shape\n",
    "\n",
    "Here, we can see that our items in the train_loader have the shape of (100(number of items in the batch), 8, 49). But for ou rfurther operations such as matrix multiplications, this shape is going to be invalid for us. Therefore, we need to reshape it."
   ]
  },
  {
   "cell_type": "code",
   "execution_count": 11,
   "id": "89575bd4",
   "metadata": {},
   "outputs": [
    {
     "name": "stdout",
     "output_type": "stream",
     "text": [
      "items.shape: torch.Size([100, 8, 49])\n",
      "inputs.shape: torch.Size([100, 392])\n"
     ]
    }
   ],
   "source": [
    "for items, labels in train_loader:\n",
    "    print('items.shape:', items.shape)\n",
    "    inputs = items.reshape(-1, 8*49)\n",
    "    print('inputs.shape:', inputs.shape)\n",
    "    break"
   ]
  },
  {
   "cell_type": "markdown",
   "id": "ace89c6e",
   "metadata": {},
   "source": [
    "The size of the hidden layer is going to be 64."
   ]
  },
  {
   "cell_type": "code",
   "execution_count": 12,
   "id": "9043772c",
   "metadata": {},
   "outputs": [],
   "source": [
    "input_size = inputs.shape[-1]\n",
    "hidden_size = 64"
   ]
  },
  {
   "cell_type": "markdown",
   "id": "775ef379",
   "metadata": {},
   "source": [
    "### Layer Creation\n",
    "\n",
    "Next, we will create a nn.Linear object that is going to be our hidden layer. The size is already defined to be 64."
   ]
  },
  {
   "cell_type": "code",
   "execution_count": 19,
   "id": "2fcb6b82",
   "metadata": {},
   "outputs": [],
   "source": [
    "L1 = nn.Linear(input_size, hidden_size)"
   ]
  },
  {
   "cell_type": "code",
   "execution_count": 20,
   "id": "e465ac18",
   "metadata": {
    "scrolled": true
   },
   "outputs": [
    {
     "name": "stdout",
     "output_type": "stream",
     "text": [
      "layer1_outputs.shape: torch.Size([100, 64])\n"
     ]
    }
   ],
   "source": [
    "L1_outputs = L1(inputs)\n",
    "print('layer1_outputs.shape:', L1_outputs.shape)"
   ]
  },
  {
   "cell_type": "code",
   "execution_count": 21,
   "id": "6a555255",
   "metadata": {},
   "outputs": [
    {
     "data": {
      "text/plain": [
       "torch.Size([100, 64])"
      ]
     },
     "execution_count": 21,
     "metadata": {},
     "output_type": "execute_result"
    }
   ],
   "source": [
    "L1_outputs_direct = inputs @ L1.weight.t() + L1.bias\n",
    "L1_outputs_direct.shape"
   ]
  },
  {
   "cell_type": "markdown",
   "id": "9b32c231",
   "metadata": {},
   "source": [
    "The image of vectors of size 392 are now transformed into intermediate output vectors of lenght 64 after matrix multiplications and addition of bias.\n",
    "\n",
    "### Activation Function\n",
    "\n",
    "L1_outputs and inputs have a linear relationship, where each element of L1_putputs is a weighted sum of elements of unputs. Therefore, layer 1 can only capture linear relationships. That is why we need some kind of function that would make the next relationship between L1 and L2 non-linear.\n",
    "\n",
    "This kind of function is called an activation function and there are typically 5 major functions which are Step, Tanh, ReLU, and leaky ReLU.\n",
    "\n",
    "In our case, we will be using ReLU (Rectified Linear Unit) as an activation function. What it does is it ignores the non-negative numbers, but the negative numbers are transformed to 0. This function is no derivativable, and therefore is a good choice for a function to get rid from linearity. "
   ]
  },
  {
   "cell_type": "code",
   "execution_count": 22,
   "id": "161bc160",
   "metadata": {},
   "outputs": [
    {
     "name": "stdout",
     "output_type": "stream",
     "text": [
      "min(L1_outputs): -56.520835876464844\n",
      "min(relu_outputs): 0.0\n"
     ]
    }
   ],
   "source": [
    "relu_outputs = F.relu(L1_outputs)\n",
    "print('min(L1_outputs):', torch.min(L1_outputs).item())\n",
    "print('min(relu_outputs):', torch.min(relu_outputs).item())"
   ]
  },
  {
   "cell_type": "markdown",
   "id": "faad702f",
   "metadata": {},
   "source": [
    "### Creation of Layer 2"
   ]
  },
  {
   "cell_type": "code",
   "execution_count": 23,
   "id": "b1af9230",
   "metadata": {},
   "outputs": [],
   "source": [
    "L2 = nn.Linear(hidden_size, 1)"
   ]
  },
  {
   "cell_type": "code",
   "execution_count": 24,
   "id": "c53a4e48",
   "metadata": {},
   "outputs": [
    {
     "name": "stdout",
     "output_type": "stream",
     "text": [
      "torch.Size([100, 1])\n"
     ]
    }
   ],
   "source": [
    "L2_outputs = L2(relu_outputs)\n",
    "print(L2_outputs.shape)"
   ]
  },
  {
   "cell_type": "markdown",
   "id": "ca0c1824",
   "metadata": {},
   "source": [
    "Now, layer 2 outputs contains a batch of vectors of size 1. Now, we can compute the loss using F.mse_loss (Mean Squared Loss) function and adjust the weights of L1 and L2 using gradient descent."
   ]
  },
  {
   "cell_type": "code",
   "execution_count": 25,
   "id": "dd69839f",
   "metadata": {},
   "outputs": [
    {
     "data": {
      "text/plain": [
       "tensor(470.2571, grad_fn=<MseLossBackward0>)"
      ]
     },
     "execution_count": 25,
     "metadata": {},
     "output_type": "execute_result"
    }
   ],
   "source": [
    "F.mse_loss(L2_outputs, labels)"
   ]
  },
  {
   "cell_type": "code",
   "execution_count": 26,
   "id": "8c646737",
   "metadata": {},
   "outputs": [],
   "source": [
    "# Expanded version of layer2(F.relu(layer1(inputs)))\n",
    "outputs = (F.relu(inputs @ L1.weight.t() + L1.bias)) @ L2.weight.t() + L2.bias"
   ]
  },
  {
   "cell_type": "code",
   "execution_count": 27,
   "id": "5dbea19b",
   "metadata": {},
   "outputs": [],
   "source": [
    "# Same as layer2(layer1(inputs))\n",
    "outputs2 = (inputs @ L1.weight.t() + L1.bias) @ L2.weight.t() + L2.bias"
   ]
  },
  {
   "cell_type": "code",
   "execution_count": 30,
   "id": "b29e86c2",
   "metadata": {},
   "outputs": [],
   "source": [
    "# Create a single layer to replace the two linear layers\n",
    "combined_layer = nn.Linear(input_size, 1)\n",
    "\n",
    "combined_layer.weight.data = L2.weight @ L1.weight\n",
    "combined_layer.bias.data = L1.bias @ L2.weight.t() + L2.bias"
   ]
  },
  {
   "cell_type": "code",
   "execution_count": 31,
   "id": "ed5666b7",
   "metadata": {},
   "outputs": [],
   "source": [
    "# Same as combined_layer(inputs)\n",
    "outputs3 = inputs @ combined_layer.weight.t() + combined_layer.bias"
   ]
  },
  {
   "cell_type": "markdown",
   "id": "49d84e6f",
   "metadata": {},
   "source": [
    "### Defining Model\n",
    "\n",
    "Here we will define our own class of Model, that will be extended from nn.Linear model with some minor additions such as reshaping and applying a hidden layer. "
   ]
  },
  {
   "cell_type": "code",
   "execution_count": 32,
   "id": "30d1f843",
   "metadata": {},
   "outputs": [],
   "source": [
    "class MyModel(nn.Module):\n",
    "    \"\"\"Feedfoward neural network with 1 hidden layer\"\"\"\n",
    "    def __init__(self, in_size, hidden_size, out_size):\n",
    "        super().__init__()\n",
    "        self.linear1 = nn.Linear(in_size, hidden_size)\n",
    "        self.linear2 = nn.Linear(hidden_size, out_size)\n",
    "        \n",
    "    def forward(self, xb):\n",
    "        xb = xb.view(-1, 8*49)\n",
    "        out = self.linear1(xb)\n",
    "        out = F.relu(out)\n",
    "        out = self.linear2(out)\n",
    "        return out\n",
    "    \n",
    "    def training_step(self, batch):\n",
    "        items, labels = batch \n",
    "        out = self(items)\n",
    "        loss = F.mse_loss(out, labels)\n",
    "        return loss\n",
    "    \n",
    "    def validation_step(self, batch):\n",
    "        items, labels = batch \n",
    "        out = self(items)\n",
    "        loss = F.mse_loss(out, labels)\n",
    "        return {'val_loss': loss}\n",
    "        \n",
    "    def validation_epoch_end(self, outputs):\n",
    "        batch_losses = [x['val_loss'] for x in outputs]\n",
    "        epoch_loss = torch.stack(batch_losses).mean()\n",
    "        return {'val_loss': epoch_loss.item()}\n",
    "    \n",
    "    def epoch_end(self, epoch, result):\n",
    "        print(\"Epoch [{}], val_loss: {:.4f}\".format(epoch, result['val_loss']))"
   ]
  },
  {
   "cell_type": "code",
   "execution_count": 33,
   "id": "318eba33",
   "metadata": {},
   "outputs": [],
   "source": [
    "model = MyModel(input_size, hidden_size=32, out_size=1)"
   ]
  },
  {
   "cell_type": "code",
   "execution_count": 34,
   "id": "893362a3",
   "metadata": {},
   "outputs": [
    {
     "name": "stdout",
     "output_type": "stream",
     "text": [
      "torch.Size([32, 392])\n",
      "torch.Size([32])\n",
      "torch.Size([1, 32])\n",
      "torch.Size([1])\n"
     ]
    }
   ],
   "source": [
    "for t in model.parameters():\n",
    "    print(t.shape)"
   ]
  },
  {
   "cell_type": "markdown",
   "id": "5f3bf80a",
   "metadata": {},
   "source": [
    "Here from model parameters we can see how the sizes of our batches are changing with each layer."
   ]
  },
  {
   "cell_type": "markdown",
   "id": "da0d65f8",
   "metadata": {},
   "source": [
    "### Evaluate and Fit Functions\n",
    "\n",
    "Now, it is time to define the evaluate and fit functions.\n",
    "\n",
    "The evaluate() function will be checking the performance of the model on the validation loader.\n",
    "\n",
    "The fit() function is going to be a function that is handling the training of the model and applying the backward() process that will be making the model better overtime."
   ]
  },
  {
   "cell_type": "code",
   "execution_count": 35,
   "id": "75654c6f",
   "metadata": {},
   "outputs": [],
   "source": [
    "def evaluate(model, val_loader):\n",
    "    \"\"\"Evaluate the model's performance on the validation set\"\"\"\n",
    "    outputs = [model.validation_step(batch) for batch in val_loader]\n",
    "    return model.validation_epoch_end(outputs)\n",
    "\n",
    "def fit(epochs, lr, model, train_loader, val_loader, opt_func=torch.optim.SGD):\n",
    "    \"\"\"Train the model using gradient descent\"\"\"\n",
    "    history = []\n",
    "    optimizer = opt_func(model.parameters(), lr)\n",
    "    for epoch in range(epochs):\n",
    "        \n",
    "        # Training Phase \n",
    "        for batch in train_loader:\n",
    "            loss = model.training_step(batch)\n",
    "            loss.backward()\n",
    "            optimizer.step()\n",
    "            optimizer.zero_grad()\n",
    "        \n",
    "        # Validation phase\n",
    "        result = evaluate(model, val_loader)\n",
    "        model.epoch_end(epoch, result)\n",
    "        history.append(result)\n",
    "    return history"
   ]
  },
  {
   "cell_type": "code",
   "execution_count": 36,
   "id": "6ea42e3d",
   "metadata": {},
   "outputs": [
    {
     "data": {
      "text/plain": [
       "[{'val_loss': 341.6239013671875}]"
      ]
     },
     "execution_count": 36,
     "metadata": {},
     "output_type": "execute_result"
    }
   ],
   "source": [
    "history = [evaluate(model, val_loader)]\n",
    "history"
   ]
  },
  {
   "cell_type": "code",
   "execution_count": 37,
   "id": "f0039d8b",
   "metadata": {
    "scrolled": true
   },
   "outputs": [
    {
     "name": "stdout",
     "output_type": "stream",
     "text": [
      "Epoch [0], val_loss: 24.5951\n",
      "Epoch [1], val_loss: 22.1745\n",
      "Epoch [2], val_loss: 21.4285\n",
      "Epoch [3], val_loss: 21.3776\n",
      "Epoch [4], val_loss: 21.8017\n",
      "Epoch [5], val_loss: 20.5626\n",
      "Epoch [6], val_loss: 22.3841\n",
      "Epoch [7], val_loss: 20.2465\n",
      "Epoch [8], val_loss: 22.6555\n",
      "Epoch [9], val_loss: 19.7944\n",
      "Epoch [10], val_loss: 19.8502\n",
      "Epoch [11], val_loss: 20.8647\n",
      "Epoch [12], val_loss: 21.4028\n",
      "Epoch [13], val_loss: 20.2443\n",
      "Epoch [14], val_loss: 19.7907\n",
      "Epoch [15], val_loss: 19.4051\n",
      "Epoch [16], val_loss: 20.3620\n",
      "Epoch [17], val_loss: 19.3020\n",
      "Epoch [18], val_loss: 20.1297\n",
      "Epoch [19], val_loss: 19.6405\n"
     ]
    }
   ],
   "source": [
    "history += fit(20, 1e-4, model, train_loader, val_loader)"
   ]
  },
  {
   "cell_type": "code",
   "execution_count": 38,
   "id": "9f1ef069",
   "metadata": {
    "scrolled": true
   },
   "outputs": [
    {
     "name": "stdout",
     "output_type": "stream",
     "text": [
      "Epoch [0], val_loss: 18.6308\n",
      "Epoch [1], val_loss: 18.6759\n",
      "Epoch [2], val_loss: 18.5793\n",
      "Epoch [3], val_loss: 18.5551\n",
      "Epoch [4], val_loss: 18.5984\n",
      "Epoch [5], val_loss: 18.5959\n",
      "Epoch [6], val_loss: 18.6486\n",
      "Epoch [7], val_loss: 18.5891\n",
      "Epoch [8], val_loss: 18.5588\n",
      "Epoch [9], val_loss: 18.5969\n",
      "Epoch [10], val_loss: 18.5723\n",
      "Epoch [11], val_loss: 18.6045\n",
      "Epoch [12], val_loss: 18.5993\n",
      "Epoch [13], val_loss: 18.6262\n",
      "Epoch [14], val_loss: 18.6135\n",
      "Epoch [15], val_loss: 18.5833\n",
      "Epoch [16], val_loss: 18.6069\n",
      "Epoch [17], val_loss: 18.5931\n",
      "Epoch [18], val_loss: 18.6151\n",
      "Epoch [19], val_loss: 18.5812\n"
     ]
    }
   ],
   "source": [
    "history += fit(20, 1e-5, model, train_loader, val_loader)"
   ]
  },
  {
   "cell_type": "code",
   "execution_count": 39,
   "id": "7f126355",
   "metadata": {
    "scrolled": true
   },
   "outputs": [
    {
     "name": "stdout",
     "output_type": "stream",
     "text": [
      "Epoch [0], val_loss: 18.5565\n",
      "Epoch [1], val_loss: 18.5551\n",
      "Epoch [2], val_loss: 18.5509\n",
      "Epoch [3], val_loss: 18.5530\n",
      "Epoch [4], val_loss: 18.5494\n",
      "Epoch [5], val_loss: 18.5490\n",
      "Epoch [6], val_loss: 18.5530\n",
      "Epoch [7], val_loss: 18.5514\n",
      "Epoch [8], val_loss: 18.5552\n",
      "Epoch [9], val_loss: 18.5509\n",
      "Epoch [10], val_loss: 18.5516\n",
      "Epoch [11], val_loss: 18.5524\n",
      "Epoch [12], val_loss: 18.5457\n",
      "Epoch [13], val_loss: 18.5507\n",
      "Epoch [14], val_loss: 18.5540\n",
      "Epoch [15], val_loss: 18.5522\n",
      "Epoch [16], val_loss: 18.5506\n",
      "Epoch [17], val_loss: 18.5513\n",
      "Epoch [18], val_loss: 18.5501\n",
      "Epoch [19], val_loss: 18.5498\n"
     ]
    }
   ],
   "source": [
    "history += fit(20, 1e-6, model, train_loader, val_loader)"
   ]
  },
  {
   "cell_type": "code",
   "execution_count": 40,
   "id": "743c821b",
   "metadata": {
    "scrolled": true
   },
   "outputs": [
    {
     "name": "stdout",
     "output_type": "stream",
     "text": [
      "Epoch [0], val_loss: 18.5492\n",
      "Epoch [1], val_loss: 18.5490\n",
      "Epoch [2], val_loss: 18.5489\n",
      "Epoch [3], val_loss: 18.5489\n",
      "Epoch [4], val_loss: 18.5487\n",
      "Epoch [5], val_loss: 18.5486\n",
      "Epoch [6], val_loss: 18.5486\n",
      "Epoch [7], val_loss: 18.5484\n",
      "Epoch [8], val_loss: 18.5484\n",
      "Epoch [9], val_loss: 18.5483\n",
      "Epoch [10], val_loss: 18.5483\n",
      "Epoch [11], val_loss: 18.5483\n",
      "Epoch [12], val_loss: 18.5483\n",
      "Epoch [13], val_loss: 18.5482\n",
      "Epoch [14], val_loss: 18.5482\n",
      "Epoch [15], val_loss: 18.5481\n",
      "Epoch [16], val_loss: 18.5481\n",
      "Epoch [17], val_loss: 18.5480\n",
      "Epoch [18], val_loss: 18.5480\n",
      "Epoch [19], val_loss: 18.5480\n"
     ]
    }
   ],
   "source": [
    "history += fit(20, 1e-7, model, train_loader, val_loader)"
   ]
  },
  {
   "cell_type": "code",
   "execution_count": 41,
   "id": "d3f91f24",
   "metadata": {},
   "outputs": [
    {
     "data": {
      "image/png": "[encoded data removed]",
      "text/plain": [
       "<Figure size 432x288 with 1 Axes>"
      ]
     },
     "metadata": {
      "needs_background": "light"
     },
     "output_type": "display_data"
    }
   ],
   "source": [
    "losses = [x['val_loss'] for x in history]\n",
    "plt.plot(losses, '-x')\n",
    "plt.xlabel('epoch')\n",
    "plt.ylabel('loss')\n",
    "plt.title('Loss vs. No. of epochs');"
   ]
  },
  {
   "cell_type": "markdown",
   "id": "3727415c",
   "metadata": {},
   "source": [
    "After running a several number of epochs we can see that our val_loss (mse_loss) is on the level of 18.4. Also, from the graph we can see that the model flattened already after about 10 epochs. This is a quite good result for the model.\n",
    "\n",
    "Now let's predict the values on the testing data."
   ]
  },
  {
   "cell_type": "code",
   "execution_count": 42,
   "id": "6a97acba",
   "metadata": {},
   "outputs": [
    {
     "data": {
      "text/plain": [
       "tensor([[1.3432],\n",
       "        [1.5512],\n",
       "        [1.3817],\n",
       "        ...,\n",
       "        [4.3431],\n",
       "        [5.5608],\n",
       "        [4.5661]], grad_fn=<AddmmBackward0>)"
      ]
     },
     "execution_count": 42,
     "metadata": {},
     "output_type": "execute_result"
    }
   ],
   "source": [
    "inputs_test = torch.from_numpy(input_test)\n",
    "\n",
    "test = model(inputs_test.float())\n",
    "test"
   ]
  },
  {
   "cell_type": "markdown",
   "id": "dc7f4f4d",
   "metadata": {},
   "source": [
    "Now, we will save the model for the submission."
   ]
  },
  {
   "cell_type": "code",
   "execution_count": 43,
   "id": "d2bdb267",
   "metadata": {},
   "outputs": [],
   "source": [
    "torch.save(model.state_dict(), 'chicago.pth')"
   ]
  },
  {
   "cell_type": "code",
   "execution_count": 44,
   "id": "609239ac",
   "metadata": {},
   "outputs": [
    {
     "data": {
      "text/plain": [
       "OrderedDict([('linear1.weight',\n",
       "              tensor([[-0.0157, -0.0224, -0.0335,  ...,  0.0243,  0.0615,  0.0363],\n",
       "                      [ 0.0058,  0.0220, -0.0516,  ..., -0.0410, -0.0263,  0.0249],\n",
       "                      [ 0.0160,  0.0183,  0.0377,  ...,  0.0254,  0.0734,  0.0629],\n",
       "                      ...,\n",
       "                      [-0.0449,  0.0221,  0.0253,  ...,  0.0126,  0.0391,  0.0426],\n",
       "                      [-0.0360,  0.0017, -0.0185,  ...,  0.0313, -0.0124, -0.0118],\n",
       "                      [-0.0208,  0.0081, -0.0315,  ...,  0.0074,  0.0234,  0.0143]])),\n",
       "             ('linear1.bias',\n",
       "              tensor([ 0.0214,  0.0077,  0.0914,  0.0330, -0.0495,  0.0214,  0.0298,  0.0355,\n",
       "                      -0.0634,  0.0434, -0.0226,  0.0031,  0.0023,  0.0908, -0.0465,  0.0310,\n",
       "                       0.0293,  0.0211, -0.0026, -0.0298, -0.0428, -0.0056, -0.0307, -0.0551,\n",
       "                      -0.0117,  0.0438, -0.0282,  0.0184, -0.0402,  0.0194, -0.0464,  0.0121])),\n",
       "             ('linear2.weight',\n",
       "              tensor([[-0.2972, -0.2054,  0.2014, -0.2817, -0.1684,  0.5170,  0.2868, -0.1495,\n",
       "                       -0.1211,  0.2223, -0.0817, -0.3231, -0.1771,  0.1873, -0.2757,  0.1828,\n",
       "                       -0.2252,  0.1352,  0.1422,  0.2011,  0.2053, -0.1216, -0.3731, -0.3149,\n",
       "                       -0.1572,  0.4822, -0.1552,  0.0998,  0.3310,  0.1740, -0.0784,  0.1326]])),\n",
       "             ('linear2.bias', tensor([0.1043]))])"
      ]
     },
     "execution_count": 44,
     "metadata": {},
     "output_type": "execute_result"
    }
   ],
   "source": [
    "model.state_dict()"
   ]
  },
  {
   "cell_type": "markdown",
   "id": "9c23a099",
   "metadata": {},
   "source": [
    "--------------------------------------------------------------------------------"
   ]
  },
  {
   "cell_type": "markdown",
   "id": "5976963e",
   "metadata": {},
   "source": [
    "The model was trained on the training and validation sets and showed an mse_loss of around 18.4 (Since, it is squared we can assume that the mean average error would be around sqrt18.4 or 4.3). But, there are still losses in the model. For example, more hidden layers can be added to the model or we can use different activation function. Since, the model had only one hidden layer it is not as efficient as Deep Neural Networks such as CNN and RNN, but for the task, it should give the good result in predicting the traffic demand for the next step."
   ]
  },
  {
   "cell_type": "code",
   "execution_count": null,
   "id": "6caf1e52",
   "metadata": {},
   "outputs": [],
   "source": []
  }
 ],
 "metadata": {
  "kernelspec": {
   "display_name": "Python 3 (ipykernel)",
   "language": "python",
   "name": "python3"
  },
  "language_info": {
   "codemirror_mode": {
    "name": "ipython",
    "version": 3
   },
   "file_extension": ".py",
   "mimetype": "text/x-python",
   "name": "python",
   "nbconvert_exporter": "python",
   "pygments_lexer": "ipython3",
   "version": "3.9.7"
  }
 },
 "nbformat": 4,
 "nbformat_minor": 5
}
